{
  "nbformat": 4,
  "nbformat_minor": 0,
  "metadata": {
    "colab": {
      "provenance": [],
      "include_colab_link": true
    },
    "kernelspec": {
      "name": "python3",
      "display_name": "Python 3"
    },
    "language_info": {
      "name": "python"
    }
  },
  "cells": [
    {
      "cell_type": "markdown",
      "metadata": {
        "id": "view-in-github",
        "colab_type": "text"
      },
      "source": [
        "<a href=\"https://colab.research.google.com/github/DeviMariani/belajar-pbo/blob/main/TugasEnkapsulasi1.ipynb\" target=\"_parent\"><img src=\"https://colab.research.google.com/assets/colab-badge.svg\" alt=\"Open In Colab\"/></a>"
      ]
    },
    {
      "cell_type": "code",
      "execution_count": 2,
      "metadata": {
        "id": "ihePdlIsSR5E"
      },
      "outputs": [],
      "source": [
        "\n",
        "\n",
        "class Karyawan:\n",
        "  def __init__(self, nama, gaji):\n",
        "    #Deklarasi dan inisialisai variabel privat untuk nama\n",
        "    self.__nama = nama\n",
        "    #Deklarasi dan inisialisai variabel privat untuk gaji\n",
        "    self.__gaji = gaji\n",
        "  # Fungsi untuk mengakses nama\n",
        "  def get_nama(self):\n",
        "    #lengkapi\n",
        "    return self.__nama\n",
        "  # Fungsi untuk mengubah nama\n",
        "  def set_nama(self, nama):\n",
        "    #lengkapi\n",
        "    self.__nama = nama\n",
        "  # Fungsi untuk mengakses gaji\n",
        "  def get_gaji(self):\n",
        "    #lengkapi\n",
        "    return self.__gaji\n",
        "  # Fungsi untuk mengubah gaji\n",
        "  def set_gaji(self, gaji):\n",
        "   #lengkapi\n",
        "    self.__gaji = gaji"
      ]
    },
    {
      "cell_type": "code",
      "source": [
        "\n",
        "\n",
        "\n",
        "\n",
        "# Membuat objek Karyawan dengan nama Ahmad dengan gaji 4000000\n",
        "karyawan1 = Karyawan(\"Ahmad\", 4000000)\n",
        "\n",
        "# Mengakses/menampilkan nama dan gaji menggunakan fungsi\n",
        "print(\"nama karyawan:\", karyawan1.get_nama())\n",
        "print(\"gaji karyawan:\", karyawan1.get_gaji())\n",
        "\n",
        "# Mengubah nama menjadi nama anda masing-masing dan gaji bebas menggunakan fungsi\n",
        "karyawan1 = Karyawan(\"Devi\",100000000)\n",
        "\n",
        "# Mengakses/menampilkan nama dan gaji setelah diubah\n",
        "print(\"setelah diubah nama karyawan:\", karyawan1.get_nama())\n",
        "print(\"setelah diubah gaji karyawan:\", karyawan1.get_gaji())"
      ],
      "metadata": {
        "id": "aOwy6rfdSga2",
        "colab": {
          "base_uri": "https://localhost:8080/"
        },
        "outputId": "485ba819-9aee-4c1a-ce69-2e1c830bad91"
      },
      "execution_count": 6,
      "outputs": [
        {
          "output_type": "stream",
          "name": "stdout",
          "text": [
            "nama karyawan: Ahmad\n",
            "gaji karyawan: 4000000\n",
            "setelah diubah nama karyawan: Devi\n",
            "setelah diubah gaji karyawan: 100000000\n",
            "nama karyawan: Ahmad\n",
            "gaji karyawan: 4000000\n",
            "setelah diubah nama karyawan: Devi\n",
            "setelah diubah gaji karyawan: 100000000\n"
          ]
        }
      ]
    }
  ]
}