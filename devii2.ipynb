{
  "nbformat": 4,
  "nbformat_minor": 0,
  "metadata": {
    "colab": {
      "provenance": [],
      "include_colab_link": true
    },
    "kernelspec": {
      "name": "python3",
      "display_name": "Python 3"
    },
    "language_info": {
      "name": "python"
    }
  },
  "cells": [
    {
      "cell_type": "markdown",
      "metadata": {
        "id": "view-in-github",
        "colab_type": "text"
      },
      "source": [
        "<a href=\"https://colab.research.google.com/github/DeviMariani/belajar-pbo/blob/main/devii2.ipynb\" target=\"_parent\"><img src=\"https://colab.research.google.com/assets/colab-badge.svg\" alt=\"Open In Colab\"/></a>"
      ]
    },
    {
      "cell_type": "markdown",
      "source": [
        "Buatlah class Karyawan yang memiliki atribut id, nama dan departemen dan sebuah fungsi bernama hitung_gaji. Untuk hitung gaji pada class Karyawan tidak berisi perhitungan gaji, namun hanya berisi pass"
      ],
      "metadata": {
        "id": "Um7eIwqGTwV8"
      }
    },
    {
      "cell_type": "code",
      "execution_count": 1,
      "metadata": {
        "id": "LMDiMb1-Dtzp"
      },
      "outputs": [],
      "source": [
        "\n",
        "class Karyawan:\n",
        "  def __init__ (self, id, nama, departemen):\n",
        "    self.id = id\n",
        "    self.nama = nama\n",
        "    self.departemen = departemen\n",
        "  def hitung_gaji(self):\n",
        "    pass"
      ]
    },
    {
      "cell_type": "markdown",
      "source": [
        "Buatlah class Penuh yang merupakan turunan dari class Karyawan dan memili atribut tambahan bernama gaji. Kemudian class Penuh ini juga memiliki fungsi hitung_gaji sendiri yang berfungsi mengembalikan nilai gajinya."
      ],
      "metadata": {
        "id": "CLMRhqWUUHoZ"
      }
    },
    {
      "cell_type": "code",
      "source": [
        "\n",
        "class Penuh(Karyawan):\n",
        "  def __init__ (self, id, nama, departemen, gaji):\n",
        "    super().__init__(id, nama, departemen)\n",
        "    self.gaji = gaji\n",
        "\n",
        "  def hitung_gaji(self):\n",
        "    return self.gaji"
      ],
      "metadata": {
        "id": "MZwsxgPDEZNs"
      },
      "execution_count": 2,
      "outputs": []
    },
    {
      "cell_type": "markdown",
      "source": [
        "Buatlah class ParuhWaktu yang merupakan turunan dari class Karyawan dan memiliki 2 atribut tambahan bernama jam_kerja dan tarif_per_jam. Kemudian class ParuhWaktu ini juga memiliki fungsi hitung_gaji sendiri yang berfungsi mengembalikan nilai gajinya dengan rumus jam_kerja dikalikan tarif_per_jam."
      ],
      "metadata": {
        "id": "ywi3yeiqUjlh"
      }
    },
    {
      "cell_type": "code",
      "source": [
        "\n",
        "class ParuhWaktu(Karyawan):\n",
        "  def __init__(self, id, nama, departemen, jam_kerja, tarif_per_jam):\n",
        "    super().__init__(id, nama, departemen)\n",
        "    self.jam_kerja = jam_kerja\n",
        "    self.tarif_per_jam = tarif_per_jam\n",
        "  def hitung_gaji(self):\n",
        "    return self.jam_kerja * self.tarif_per_jam"
      ],
      "metadata": {
        "id": "HLBTYAVKEc7E"
      },
      "execution_count": 3,
      "outputs": []
    },
    {
      "cell_type": "markdown",
      "source": [
        "Kemudian jalankan kode program berikut ini, ubah kode karyawan, nama, departemen, gaji, jam_kerja dan tarif_per_jam sesuai keinginan anda sendiri"
      ],
      "metadata": {
        "id": "qjE3CE61VSzn"
      }
    },
    {
      "cell_type": "code",
      "source": [
        "\n",
        "# Membuat objek dari kelas anak\n",
        "karyawan1 = Penuh(\"296zhm\", \"fidya\", \"Wd\", 500000000)\n",
        "karyawan2 = ParuhWaktu(\"317asr\", \"devi\", \"RP\", 40, 8000000)\n",
        "\n",
        "# Menghitung gaji\n",
        "print(f\"Gaji {karyawan1.nama}: Rp {karyawan1.hitung_gaji()}\")  # Output: Gaji Budi: Rp 10 000 000\n",
        "print(f\"Gaji {karyawan2.nama}: Rp {karyawan2.hitung_gaji()}\")  # Output: Gaji Rudi: Rp 3 000 000"
      ],
      "metadata": {
        "id": "jwwX3nI8Efh8",
        "outputId": "9e3566c4-7259-4d37-98e9-f267f5085860",
        "colab": {
          "base_uri": "https://localhost:8080/"
        }
      },
      "execution_count": 4,
      "outputs": [
        {
          "output_type": "stream",
          "name": "stdout",
          "text": [
            "Gaji fidya: Rp 500000000\n",
            "Gaji devi: Rp 320000000\n"
          ]
        }
      ]
    }
  ]
}